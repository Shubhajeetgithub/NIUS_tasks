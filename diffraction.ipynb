{
 "cells": [
  {
   "cell_type": "markdown",
   "id": "d7911247",
   "metadata": {},
   "source": [
    "# Finding wavelength and diameter of slit"
   ]
  },
  {
   "cell_type": "code",
   "execution_count": 1,
   "id": "1b91c1ac",
   "metadata": {},
   "outputs": [
    {
     "data": {
      "image/png": "[encoded data removed]",
      "text/plain": [
       "<Figure size 640x480 with 1 Axes>"
      ]
     },
     "metadata": {},
     "output_type": "display_data"
    }
   ],
   "source": [
    "import numpy as np\n",
    "from LeastSquare import LeastSquareRegression\n",
    "y = np.array([1.75, 3.50, 5.25, 7.00, 8.95], dtype=np.float64)\n",
    "n = np.array([1, 2, 3, 4, 5], dtype=np.float64)\n",
    "error_y = 0.1\n",
    "D = 500.6 #in cm\n",
    "error_D = 0.2 #in cm\n",
    "sintheta = np.sin(np.arctan(y/D))\n",
    "Y = sintheta * 1000\n",
    "X = n\n",
    "errorY = 1000 * ((2 * y * y + D * D) * error_y + y * D * error_D) / ((y * y + D * D) ** 1.5)\n",
    "from matplotlib import pyplot as plt\n",
    "plt.errorbar(X, Y, yerr=errorY, fmt='o', capsize=5)\n",
    "plt.xlabel('n')\n",
    "plt.ylabel('1000 * sintheta')\n",
    "plt.grid(True)\n",
    "plt.show()"
   ]
  },
  {
   "cell_type": "code",
   "execution_count": 2,
   "id": "c2481a33",
   "metadata": {},
   "outputs": [
    {
     "name": "stdout",
     "output_type": "stream",
     "text": [
      "{'a': 0.003575015619381327, 'b': -0.0001587285290972361, 'sigma_a': 6.317471091081266e-05, 'sigma_b': 0.00020951773732052223}\n"
     ]
    }
   ],
   "source": [
    "\n",
    "def f(x):\n",
    "    return x\n",
    "def dfdx(x):\n",
    "    return 1\n",
    "def g(y):\n",
    "    return np.sin(np.arctan(y/D))\n",
    "def dgdy(y):\n",
    "    return (2 * y * y + D * D) / ((y * y + D * D) ** 1.5)\n",
    "model = LeastSquareRegression()\n",
    "results = model.fit(n, y, f, g, dfdx, dgdy, 0, 0.1)\n",
    "print(results)"
   ]
  },
  {
   "cell_type": "code",
   "execution_count": 3,
   "id": "80dce28b",
   "metadata": {},
   "outputs": [
    {
     "data": {
      "text/plain": [
       "5450.678532679712"
      ]
     },
     "execution_count": 3,
     "metadata": {},
     "output_type": "execute_result"
    }
   ],
   "source": [
    "(results['a'] * 8 + 650 * results['sigma_a'])/ (results['a']**2)"
   ]
  },
  {
   "cell_type": "markdown",
   "id": "50ae2136",
   "metadata": {},
   "source": [
    "# Determining diameter of wire"
   ]
  },
  {
   "cell_type": "code",
   "execution_count": 6,
   "id": "e5e158b1",
   "metadata": {},
   "outputs": [
    {
     "name": "stdout",
     "output_type": "stream",
     "text": [
      "0.08422080301737381 0.0022782010045046368\n"
     ]
    }
   ],
   "source": [
    "D = 210.2\n",
    "def f(x):\n",
    "    return x\n",
    "def dfdx(x):\n",
    "    return 1\n",
    "def g(y):\n",
    "    return np.sin(np.arctan(y/D))\n",
    "def dgdy(y):\n",
    "    return (2 * y * y + D * D) / ((y * y + D * D) ** 1.5)\n",
    "y = np.array([1.60, 3.2, 4.8, 6.45, 8.10, 9.70], dtype=np.float64)\n",
    "n = np.array([1, 2, 3, 4, 5, 6], dtype=np.float64)\n",
    "lm = 650 * 1e-6 #in mm\n",
    "sigma_lm = 8 * 1e-6\n",
    "model2 = LeastSquareRegression()\n",
    "results2 = model2.fit(n, y, f, g, dfdx, dgdy, 0, 0.1)\n",
    "a = lm / results2['a']\n",
    "sigma_a = (results2['a'] * sigma_lm + lm * results2['sigma_a']) / (results2['a'] ** 2)\n",
    "print(a, sigma_a)"
   ]
  },
  {
   "cell_type": "code",
   "execution_count": 7,
   "id": "94bb9426",
   "metadata": {},
   "outputs": [
    {
     "name": "stdout",
     "output_type": "stream",
     "text": [
      "-0.0001894840939032819\n"
     ]
    }
   ],
   "source": [
    "print(results2['b'])"
   ]
  },
  {
   "cell_type": "code",
   "execution_count": 8,
   "id": "673614e0",
   "metadata": {},
   "outputs": [
    {
     "name": "stdout",
     "output_type": "stream",
     "text": [
      "0.4062484032466449 0.04775501725050944\n",
      "-5.9365921222785147e-05\n"
     ]
    }
   ],
   "source": [
    "m = np.array([1.22, 2.23, 3.23, 4.24], dtype=np.float64)\n",
    "y = np.array([0.5, 0.9, 1.40, 1.75], dtype=np.float64)\n",
    "D = 264\n",
    "model3 = LeastSquareRegression()\n",
    "results3 = model3.fit(m, y, f, g, dfdx, dgdy, 0, 0.1)\n",
    "d = lm / results3['a']\n",
    "sigma_d = (results3['a'] * sigma_lm + lm * results3['sigma_a']) / (results3['a'] ** 2)\n",
    "print(d, sigma_d)\n",
    "print(results3['b'])"
   ]
  },
  {
   "cell_type": "code",
   "execution_count": null,
   "id": "59ff8d48",
   "metadata": {},
   "outputs": [],
   "source": []
  }
 ],
 "metadata": {
  "kernelspec": {
   "display_name": "Python 3",
   "language": "python",
   "name": "python3"
  },
  "language_info": {
   "codemirror_mode": {
    "name": "ipython",
    "version": 3
   },
   "file_extension": ".py",
   "mimetype": "text/x-python",
   "name": "python",
   "nbconvert_exporter": "python",
   "pygments_lexer": "ipython3",
   "version": "3.12.3"
  }
 },
 "nbformat": 4,
 "nbformat_minor": 5
}
