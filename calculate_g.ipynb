{
 "cells": [
  {
   "cell_type": "code",
   "execution_count": 1,
   "id": "21a615c2",
   "metadata": {},
   "outputs": [],
   "source": [
    "import matplotlib.pyplot as plt\n",
    "plt.rcParams.update({\n",
    "    'figure.facecolor': '#111111',\n",
    "    'axes.facecolor': '#111111',\n",
    "    'axes.edgecolor': 'white',\n",
    "    'axes.labelcolor': 'white',\n",
    "    'xtick.color': 'white',\n",
    "    'ytick.color': 'white',\n",
    "    'text.color': 'white',\n",
    "    'grid.color': '#444444',\n",
    "    'grid.linestyle': '--',\n",
    "    'grid.alpha': 0.5,\n",
    "})"
   ]
  },
  {
   "cell_type": "code",
   "execution_count": 2,
   "id": "df6f44aa",
   "metadata": {},
   "outputs": [],
   "source": [
    "import numpy as np\n",
    "t0 = np.array([0.01, 0.1, 0.17, 0.1, 0.58], dtype=np.float64)\n",
    "t1 = np.array([0.61, 0.57, 0.57, 0.50, 0.61], dtype=np.float64)\n",
    "h1 = np.array([0, 0.5, 0.8, 0.5, 1.5], dtype=np.float64)\n",
    "h2 = np.array([2, 1.9, 1.9, 1.5, 2.0], dtype=np.float64)"
   ]
  },
  {
   "cell_type": "code",
   "execution_count": null,
   "id": "378fe474",
   "metadata": {},
   "outputs": [
    {
     "name": "stdout",
     "output_type": "stream",
     "text": [
      "Fitted Model: y = (-0.156291 ± 2.082111)*x1 + (8.429933 ± 7.748610)*x2 + (0.484423 ± 1.048808)\n",
      "\n",
      "Individual Parameters:\n",
      "Coefficient x1: -0.156291 ± 2.082111\n",
      "Coefficient x2: 8.429933 ± 7.748610\n",
      "Intercept: 0.484423 ± 1.048808\n"
     ]
    }
   ],
   "source": [
    "from LeastSquare import MultidimensionalLeastSquareRegression\n",
    "model = MultidimensionalLeastSquareRegression()\n",
    "\n",
    "y = h2 - h1\n",
    "x1 = np.sqrt(2 * h1) * (t1 - t0)\n",
    "x2 = 0.5 * (t1 - t0) * (t1 - t0)\n",
    "\n",
    "x = np.column_stack((x1, x2))\n",
    "results = model.fit(x, y)\n",
    "model.print_results()"
   ]
  },
  {
   "cell_type": "code",
   "execution_count": null,
   "id": "5713ed1f",
   "metadata": {},
   "outputs": [],
   "source": []
  }
 ],
 "metadata": {
  "kernelspec": {
   "display_name": "Python 3",
   "language": "python",
   "name": "python3"
  },
  "language_info": {
   "codemirror_mode": {
    "name": "ipython",
    "version": 3
   },
   "file_extension": ".py",
   "mimetype": "text/x-python",
   "name": "python",
   "nbconvert_exporter": "python",
   "pygments_lexer": "ipython3",
   "version": "3.12.3"
  }
 },
 "nbformat": 4,
 "nbformat_minor": 5
}
